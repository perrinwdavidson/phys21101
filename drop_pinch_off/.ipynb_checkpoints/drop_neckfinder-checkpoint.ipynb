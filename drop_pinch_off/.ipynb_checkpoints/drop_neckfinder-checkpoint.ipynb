{
 "cells": [
  {
   "cell_type": "markdown",
   "metadata": {},
   "source": [
    "## Drop Neckfinder\n",
    "We will use Python to do some of our dirty work here. To start, we'll need to `threshold` the image: any pixels darker than the threshold are turned black, and any brighter are turned white.  In this case, we invert this, but the idea stands.  This eliminates \"fuzzy\" edges, but it also loses some nuance in decision making.\n",
    "\n",
    "With that, you can find the outline of the drop with the `findContours` function.  This creates a list of points along the border of the white area.  We select the largest one (always the last one in the list) to be displayed then.\n",
    "\n",
    "We'll create a loop finds points in the contour belonging to each 1 pixel vertical slice of the image.  We then find the difference in distance between the top-most and bottom-most ones (this avoids errors due to highlights that can crop out) and save it.  If it's the smallest one we've found, we update our `thismin` variable.\n",
    "\n",
    "After getting to the distance `x_max` along the image, the routine saves the smallest neck radius it found and continues with the next frame.  The distance limit is there because the routine sometimes gets confused by light reflecting from the leading edge of the drop.\n",
    "\n",
    "To visualize this, a red box is drawn over the part that won't be searched over.  We'll also add a line showing where the smallest part of the neck is detected.  Note that it maight jump about a bit in the exact `x` position, but the width usually will vary smoothly"
   ]
  },
  {
   "cell_type": "code",
   "execution_count": 345,
   "metadata": {},
   "outputs": [],
   "source": [
    "# Import the libraries:\n",
    "import cv2\n",
    "import numpy as np\n",
    "import pandas as pd\n",
    "from matplotlib import pyplot as plt\n",
    "from matplotlib.animation import FuncAnimation\n",
    "import matplotlib.patches as patches\n",
    "from IPython.display import clear_output\n",
    "from IPython.display import display\n",
    "from ipywidgets import interact, interactive, fixed, interact_manual,Layout\n",
    "import ipywidgets as widgets\n",
    "import time"
   ]
  },
  {
   "cell_type": "code",
   "execution_count": 346,
   "metadata": {},
   "outputs": [],
   "source": [
    "# Configure plotting:\n",
    "%matplotlib widget\n",
    "plt.rcParams.update({'figure.max_open_warning': 0})"
   ]
  },
  {
   "cell_type": "code",
   "execution_count": 347,
   "metadata": {},
   "outputs": [],
   "source": [
    "# Set constants:\n",
    "ms2s = 1000  # milliseconds to seconds\n",
    "px2m = 164090  # pixels to meters"
   ]
  },
  {
   "cell_type": "code",
   "execution_count": 348,
   "metadata": {},
   "outputs": [],
   "source": [
    "# Set file name input:\n",
    "fname = \"io/inputs/dpo_14_edited.mp4\""
   ]
  },
  {
   "cell_type": "code",
   "execution_count": 349,
   "metadata": {},
   "outputs": [],
   "source": [
    "# Define auxillary classes:\n",
    "class StopExecution(Exception):\n",
    "    def _render_traceback_(self):\n",
    "        pass"
   ]
  },
  {
   "cell_type": "code",
   "execution_count": 350,
   "metadata": {},
   "outputs": [],
   "source": [
    "# Define functions:\n",
    "def showframe(frm=0):\n",
    "    global frames\n",
    "    disp.clear_output(wait=True)\n",
    "    with disp:\n",
    "        display(frames[frm]);\n",
    "        \n",
    "def frame_change2(change): \n",
    "    showframe(change[\"new\"])"
   ]
  },
  {
   "cell_type": "code",
   "execution_count": 357,
   "metadata": {},
   "outputs": [],
   "source": [
    "# Configure initial function values:\n",
    "x_max = 10000  # max distance along the image in pixels to iterate through\n",
    "max_length = 10000  # max number of frames to iterate through\n",
    "grey_threshold = 60  # threshold maximum -- any pixels lighter than this are not considered as the contour outline"
   ]
  },
  {
   "cell_type": "code",
   "execution_count": 358,
   "metadata": {},
   "outputs": [],
   "source": [
    "# Preallocate arrays:\n",
    "frames = []  # figure frames\n",
    "neck = []  # width of neck in pixels\n",
    "neckposition = []  # position of neck along video\n",
    "img_list = []  # frames of video"
   ]
  },
  {
   "cell_type": "code",
   "execution_count": 359,
   "metadata": {},
   "outputs": [
    {
     "name": "stdout",
     "output_type": "stream",
     "text": [
      "Done reading video.\n"
     ]
    }
   ],
   "source": [
    "# Read and review video:\n",
    "cap = cv2.VideoCapture(fname)\n",
    "\n",
    "for i in range(0, max_length):\n",
    "    ret, img = cap.read()\n",
    "    if (not ret):\n",
    "        print(\"Done reading video.\")\n",
    "        raise StopExecution \n",
    "    img_list.append(img)"
   ]
  },
  {
   "cell_type": "code",
   "execution_count": 360,
   "metadata": {},
   "outputs": [],
   "source": [
    "# Get dimensions of video:\n",
    "xdim = len(img_list[0][0]) - 1\n",
    "ydim = len(img_list[0]) - 1\n",
    "tdim = len(img_list) - 1"
   ]
  },
  {
   "cell_type": "code",
   "execution_count": 363,
   "metadata": {
    "scrolled": false
   },
   "outputs": [
    {
     "data": {
      "application/vnd.jupyter.widget-view+json": {
       "model_id": "fa629a439a4d4d4dbf5007344c7aa900",
       "version_major": 2,
       "version_minor": 0
      },
      "text/plain": [
       "IntProgress(value=0, description='Progress', max=69)"
      ]
     },
     "metadata": {},
     "output_type": "display_data"
    },
    {
     "name": "stdout",
     "output_type": "stream",
     "text": [
      "Done with calculating radius.\n"
     ]
    }
   ],
   "source": [
    "# Initialize loop plotting:\n",
    "plt.ioff()  # prevents us from drawing extra plots while setting up\n",
    "plt.close(\"all\")  \n",
    "progress = widgets.IntProgress(\n",
    "    value=0, \n",
    "    min=0,\n",
    "    max=tdim,\n",
    "    description=\"Progress\"\n",
    ")\n",
    "display(progress)\n",
    "\n",
    "# Re-read video:\n",
    "cap = cv2.VideoCapture(fname)\n",
    "\n",
    "# Determine neck radius via loop:\n",
    "for itime in range(0, tdim):\n",
    "    \n",
    "    # get video info:\n",
    "    ret, img = cap.read()\n",
    "    \n",
    "    # shut down end of file:\n",
    "    if (not ret):\n",
    "        print(\"Done calculating radius at frame \", itime)\n",
    "        raise StopExecution\n",
    "    \n",
    "    # theshold image:\n",
    "    ret, thresh = cv2.threshold(\n",
    "        img, \n",
    "        grey_threshold,\n",
    "        255,\n",
    "        cv2.THRESH_BINARY_INV\n",
    "    )\n",
    "    \n",
    "    # get contours:\n",
    "    contours, hierarchy = cv2.findContours(\n",
    "        cv2.cvtColor(thresh, cv2.COLOR_BGR2GRAY),\n",
    "        cv2.RETR_EXTERNAL,\n",
    "        cv2.CHAIN_APPROX_NONE\n",
    "    )\n",
    "    \n",
    "    # transpose data:\n",
    "    [x, y] = np.transpose(contours[-1])\n",
    "\n",
    "    # set initial values:\n",
    "    dist = []\n",
    "    radius = ydim;  # maximum radius is the height of the image\n",
    "    thismin = ydim;  # minimum of each pixel along the frame\n",
    "    minpts = [0, ydim]  # minimum point per frame\n",
    "    thisminposition = 0;  # position of the minimum for the current frame.\n",
    "    \n",
    "    # find minimum for frame:\n",
    "    for ix in range(1, xdim):\n",
    "        \n",
    "        # get maximum radius:\n",
    "        radius = ydim\n",
    "        \n",
    "        # get appropriate pixel:\n",
    "        matched = np.where(\n",
    "            x == ix, \n",
    "            True, \n",
    "            False\n",
    "        )\n",
    "        \n",
    "        # calculate radius:\n",
    "        if(matched.any()):\n",
    "            radius = max(y[matched]) - min(y[matched])\n",
    "            \n",
    "        # give value if less than ydim:\n",
    "        if(radius < thismin):\n",
    "            \n",
    "            # set radius value:\n",
    "            thismin = radius\n",
    "            \n",
    "            # set end points of radius:\n",
    "            minpts = [min(y[matched]), max(y[matched])]\n",
    "            \n",
    "            # set position of pixel:\n",
    "            thisminposition = ix \n",
    "            \n",
    "        # save values [pixel distance, radius]:\n",
    "        dist.append([ix, radius])\n",
    "        \n",
    "    # convert radius from pixels to meters:\n",
    "    thismin = thismin / px2m\n",
    "        \n",
    "    # save radius for frame:\n",
    "    neck.append(thismin)\n",
    "    \n",
    "    # save radius pixel location for frame:\n",
    "    neckposition.append(thisminposition)\n",
    "    \n",
    "    # get fps:\n",
    "    fps = cap.get(cv2.CAP_PROP_FPS)\n",
    "    \n",
    "    # calculate seconds:\n",
    "    time = (1 / fps) * itime\n",
    "    \n",
    "    # define final output array:\n",
    "    global measurements\n",
    "    \n",
    "    # make final array [frame, time, radius]:\n",
    "    if (itime == 0):\n",
    "        measurements = np.array([[(itime + 1), time, thismin]])\n",
    "        \n",
    "    else: \n",
    "        measurements = np.append(\n",
    "            measurements, \n",
    "            [[(itime + 1), time, thismin]], \n",
    "            axis=0\n",
    "        )\n",
    "    \n",
    "    # plot:\n",
    "    fig, ax = plt.subplots(figsize=(10,4), dpi=120)\n",
    "    ax.imshow(thresh, origin=\"upper\", animated=True);\n",
    "    ax.scatter(x, y, s=1);\n",
    "    plt.axis([0, xdim , 0, ydim])\n",
    "    ax.vlines(thisminposition, minpts[0], minpts[1], color='red')\n",
    "    fig.title = thismin\n",
    "    frames.append(fig)\n",
    "    \n",
    "    # update progress bar:\n",
    "    progress.value +=1    \n",
    "    \n",
    "# Print that we our done:\n",
    "print(\"Done with calculating radius.\")"
   ]
  },
  {
   "cell_type": "code",
   "execution_count": 364,
   "metadata": {},
   "outputs": [
    {
     "name": "stdout",
     "output_type": "stream",
     "text": [
      "[[1.00000000e+00 0.00000000e+00 3.35181912e-04]\n",
      " [2.00000000e+00 7.69229841e-02 3.10805046e-04]\n",
      " [3.00000000e+00 1.53845968e-01 2.92522396e-04]\n",
      " [4.00000000e+00 2.30768952e-01 2.62051313e-04]\n",
      " [5.00000000e+00 3.07691937e-01 2.49862880e-04]\n",
      " [6.00000000e+00 3.84614921e-01 2.31580230e-04]\n",
      " [7.00000000e+00 4.61537905e-01 2.19391797e-04]\n",
      " [8.00000000e+00 5.38460889e-01 2.07203364e-04]\n",
      " [9.00000000e+00 6.15383873e-01 1.95014931e-04]\n",
      " [1.00000000e+01 6.92306857e-01 1.82826498e-04]\n",
      " [1.10000000e+01 7.69229841e-01 1.70638064e-04]\n",
      " [1.20000000e+01 8.46152825e-01 1.70638064e-04]\n",
      " [1.30000000e+01 9.23075810e-01 1.58449631e-04]\n",
      " [1.40000000e+01 9.99998794e-01 1.58449631e-04]\n",
      " [1.50000000e+01 1.07692178e+00 1.52355415e-04]\n",
      " [1.60000000e+01 1.15384476e+00 1.46261198e-04]\n",
      " [1.70000000e+01 1.23076775e+00 1.46261198e-04]\n",
      " [1.80000000e+01 1.30769073e+00 1.46261198e-04]\n",
      " [1.90000000e+01 1.38461371e+00 1.40166982e-04]\n",
      " [2.00000000e+01 1.46153670e+00 1.40166982e-04]\n",
      " [2.10000000e+01 1.53845968e+00 1.34072765e-04]\n",
      " [2.20000000e+01 1.61538267e+00 1.34072765e-04]\n",
      " [2.30000000e+01 1.69230565e+00 1.34072765e-04]\n",
      " [2.40000000e+01 1.76922863e+00 1.34072765e-04]\n",
      " [2.50000000e+01 1.84615162e+00 1.27978548e-04]\n",
      " [2.60000000e+01 1.92307460e+00 1.21884332e-04]\n",
      " [2.70000000e+01 1.99999759e+00 1.21884332e-04]\n",
      " [2.80000000e+01 2.07692057e+00 1.21884332e-04]\n",
      " [2.90000000e+01 2.15384356e+00 1.21884332e-04]\n",
      " [3.00000000e+01 2.23076654e+00 1.15790115e-04]\n",
      " [3.10000000e+01 2.30768952e+00 1.09695899e-04]\n",
      " [3.20000000e+01 2.38461251e+00 1.09695899e-04]\n",
      " [3.30000000e+01 2.46153549e+00 1.03601682e-04]\n",
      " [3.40000000e+01 2.53845848e+00 1.03601682e-04]\n",
      " [3.50000000e+01 2.61538146e+00 1.03601682e-04]\n",
      " [3.60000000e+01 2.69230444e+00 9.75074654e-05]\n",
      " [3.70000000e+01 2.76922743e+00 9.75074654e-05]\n",
      " [3.80000000e+01 2.84615041e+00 9.14132488e-05]\n",
      " [3.90000000e+01 2.92307340e+00 8.53190322e-05]\n",
      " [4.00000000e+01 2.99999638e+00 8.53190322e-05]\n",
      " [4.10000000e+01 3.07691937e+00 8.53190322e-05]\n",
      " [4.20000000e+01 3.15384235e+00 7.92248156e-05]\n",
      " [4.30000000e+01 3.23076533e+00 7.31305991e-05]\n",
      " [4.40000000e+01 3.30768832e+00 6.70363825e-05]\n",
      " [4.50000000e+01 3.38461130e+00 6.70363825e-05]\n",
      " [4.60000000e+01 3.46153429e+00 6.09421659e-05]\n",
      " [4.70000000e+01 3.53845727e+00 5.48479493e-05]\n",
      " [4.80000000e+01 3.61538025e+00 5.48479493e-05]\n",
      " [4.90000000e+01 3.69230324e+00 5.48479493e-05]\n",
      " [5.00000000e+01 3.76922622e+00 4.87537327e-05]\n",
      " [5.10000000e+01 3.84614921e+00 4.26595161e-05]\n",
      " [5.20000000e+01 3.92307219e+00 1.21884332e-05]\n",
      " [5.30000000e+01 3.99999517e+00 6.09421659e-06]\n",
      " [5.40000000e+01 4.07691816e+00 6.09421659e-06]\n",
      " [5.50000000e+01 4.15384114e+00 0.00000000e+00]\n",
      " [5.60000000e+01 4.23076413e+00 0.00000000e+00]\n",
      " [5.70000000e+01 4.30768711e+00 0.00000000e+00]\n",
      " [5.80000000e+01 4.38461010e+00 0.00000000e+00]\n",
      " [5.90000000e+01 4.46153308e+00 0.00000000e+00]\n",
      " [6.00000000e+01 4.53845606e+00 1.82826498e-05]\n",
      " [6.10000000e+01 4.61537905e+00 1.21884332e-05]\n",
      " [6.20000000e+01 4.69230203e+00 6.09421659e-06]\n",
      " [6.30000000e+01 4.76922502e+00 0.00000000e+00]\n",
      " [6.40000000e+01 4.84614800e+00 0.00000000e+00]\n",
      " [6.50000000e+01 4.92307098e+00 0.00000000e+00]\n",
      " [6.60000000e+01 4.99999397e+00 0.00000000e+00]\n",
      " [6.70000000e+01 5.07691695e+00 0.00000000e+00]\n",
      " [6.80000000e+01 5.15383994e+00 0.00000000e+00]\n",
      " [6.90000000e+01 5.23076292e+00 1.15790115e-04]]\n"
     ]
    }
   ],
   "source": [
    "print(measurements)"
   ]
  },
  {
   "cell_type": "code",
   "execution_count": 365,
   "metadata": {},
   "outputs": [],
   "source": [
    "# Get pinch off time:\n",
    "frame_end = int(measurements[(measurements[:, 2] == 0), 0].min())\n",
    "t0 = measurements[(frame_end - 1), 1]\n",
    "\n",
    "# Cut data:\n",
    "measurements = measurements[:frame_end, :]\n",
    "\n",
    "# Subtract all times from t0:\n",
    "measurements[:, 1] = t0 - measurements[:, 1]"
   ]
  },
  {
   "cell_type": "code",
   "execution_count": 366,
   "metadata": {},
   "outputs": [
    {
     "name": "stdout",
     "output_type": "stream",
     "text": [
      "      radius      time\n",
      "0   0.000000  0.000000\n",
      "1   0.000006  0.115384\n",
      "2   0.000012  0.230769\n",
      "3   0.000043  0.307692\n",
      "4   0.000049  0.384615\n",
      "5   0.000055  0.538461\n",
      "6   0.000061  0.692307\n",
      "7   0.000067  0.807691\n",
      "8   0.000073  0.923076\n",
      "9   0.000079  0.999999\n",
      "10  0.000085  1.153845\n",
      "11  0.000091  1.307691\n",
      "12  0.000098  1.423075\n",
      "13  0.000104  1.615383\n",
      "14  0.000110  1.807690\n",
      "15  0.000116  1.923075\n",
      "16  0.000122  2.115382\n",
      "17  0.000128  2.307690\n",
      "18  0.000134  2.499997\n",
      "19  0.000140  2.730766\n",
      "20  0.000146  2.923073\n",
      "21  0.000152  3.076919\n",
      "22  0.000158  3.192304\n",
      "23  0.000171  3.346150\n",
      "24  0.000183  3.461534\n",
      "25  0.000195  3.538457\n",
      "26  0.000207  3.615380\n",
      "27  0.000219  3.692303\n",
      "28  0.000232  3.769226\n",
      "29  0.000250  3.846149\n",
      "30  0.000262  3.923072\n",
      "31  0.000293  3.999995\n",
      "32  0.000311  4.076918\n",
      "33  0.000335  4.153841\n"
     ]
    }
   ],
   "source": [
    "# Make dataframe:\n",
    "radii = pd.DataFrame(\n",
    "    {'time': measurements[:, 1], 'radius': measurements[:, 2]}\n",
    ")\n",
    "\n",
    "# Remove duplicates and average time:\n",
    "radii = radii.groupby('radius').mean().reset_index()\n",
    "\n",
    "# Print radii:\n",
    "print(radii)"
   ]
  },
  {
   "cell_type": "code",
   "execution_count": 367,
   "metadata": {},
   "outputs": [
    {
     "data": {
      "application/vnd.jupyter.widget-view+json": {
       "model_id": "d64db87289e64e5a82d95f23f9573df7",
       "version_major": 2,
       "version_minor": 0
      },
      "text/html": [
       "\n",
       "            <div style=\"display: inline-block;\">\n",
       "                <div class=\"jupyter-widgets widget-label\" style=\"text-align: center;\">\n",
       "                    Figure\n",
       "                </div>\n",
       "                <img src='data:image/png;base64,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' width=1000.0/>\n",
       "            </div>\n",
       "        "
      ],
      "text/plain": [
       "Canvas(toolbar=Toolbar(toolitems=[('Home', 'Reset original view', 'home', 'home'), ('Back', 'Back to previous …"
      ]
     },
     "metadata": {},
     "output_type": "display_data"
    }
   ],
   "source": [
    "# Close all plots:\n",
    "plt.close(\"all\")\n",
    "\n",
    "# Initialize figure and axis:\n",
    "fig, ax = plt.subplots(figsize=(10, 8))\n",
    "\n",
    "# Plot:\n",
    "ax.loglog(\n",
    "    radii['time'],\n",
    "    radii['radius'],\n",
    "    '.k'\n",
    ")\n",
    "\n",
    "# Add in labels:\n",
    "ax.set_xlabel('Time (s)')\n",
    "ax.set_ylabel('Radius (m)')\n",
    "ax.set_title('Drop Pinch-Off Radius over Time')\n",
    "\n",
    "# Save plot:\n",
    "#plt.savefig('io/outputs/plots/drop_pinch.png', dpi=300)\n",
    "\n",
    "# Show plot:\n",
    "plt.show()"
   ]
  },
  {
   "cell_type": "code",
   "execution_count": 240,
   "metadata": {},
   "outputs": [],
   "source": [
    "# Save data:\n",
    "dat_name = \"io/outputs/data/drop_radius.csv\"\n",
    "radii.to_csv(dat_name, index=False) "
   ]
  },
  {
   "cell_type": "code",
   "execution_count": null,
   "metadata": {},
   "outputs": [],
   "source": []
  }
 ],
 "metadata": {
  "kernelspec": {
   "display_name": "Python 3 (ipykernel)",
   "language": "python",
   "name": "python3"
  },
  "language_info": {
   "codemirror_mode": {
    "name": "ipython",
    "version": 3
   },
   "file_extension": ".py",
   "mimetype": "text/x-python",
   "name": "python",
   "nbconvert_exporter": "python",
   "pygments_lexer": "ipython3",
   "version": "3.7.11"
  }
 },
 "nbformat": 4,
 "nbformat_minor": 2
}
